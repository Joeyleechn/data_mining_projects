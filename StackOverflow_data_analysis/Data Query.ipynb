{
 "cells": [
  {
   "cell_type": "code",
   "execution_count": 1,
   "metadata": {},
   "outputs": [],
   "source": [
    "import pandas as pd\n",
    "from bq_helper import BigQueryHelper\n",
    "bq_stackoverflow = BigQueryHelper(\"bigquery-public-data\", \"stackoverflow\")"
   ]
  },
  {
   "cell_type": "code",
   "execution_count": 5,
   "metadata": {},
   "outputs": [],
   "source": [
    "query_qajoin_2009 = \"\"\"SELECT\n",
    "    q.id AS q_id,\n",
    "    q.title AS q_title,\n",
    "    q.body AS q_body,\n",
    "    q.tags,\n",
    "    q.owner_user_id AS q_user,\n",
    "    a.id AS a_id,\n",
    "    a.body AS a_body,\n",
    "    a.owner_user_id AS a_user,\n",
    "    a.parent_id\n",
    "FROM `bigquery-public-data.stackoverflow.posts_questions` q\n",
    "RIGHT JOIN `bigquery-public-data.stackoverflow.posts_answers` a\n",
    "ON q.id = a.parent_id\n",
    "WHERE EXTRACT(YEAR FROM q.creation_date) = 2009\n",
    "    \"\"\"\n",
    "df_qajoin = bq_stackoverflow.query_to_pandas(query_qajoin_2009)\n",
    "df_qajoin.to_csv(\"qajoin_2009.csv\")"
   ]
  },
  {
   "cell_type": "code",
   "execution_count": null,
   "metadata": {},
   "outputs": [],
   "source": [
    "query_qajoin_2012 = \"\"\"SELECT\n",
    "    q.id AS q_id,\n",
    "    q.title AS q_title,\n",
    "    q.body AS q_body,\n",
    "    q.tags,\n",
    "    q.owner_user_id AS q_user,\n",
    "    a.id AS a_id,\n",
    "    a.body AS a_body,\n",
    "    a.owner_user_id AS a_user,\n",
    "    a.parent_id\n",
    "FROM `bigquery-public-data.stackoverflow.posts_questions` q\n",
    "RIGHT JOIN `bigquery-public-data.stackoverflow.posts_answers` a\n",
    "ON q.id = a.parent_id\n",
    "WHERE EXTRACT(YEAR FROM q.creation_date) = 2012\n",
    "    \"\"\"\n",
    "df_qajoin = bq_stackoverflow.query_to_pandas(query_qajoin_2012)\n",
    "df_qajoin.to_csv(\"qajoin_2012.csv\")"
   ]
  },
  {
   "cell_type": "code",
   "execution_count": 2,
   "metadata": {},
   "outputs": [],
   "source": [
    "query_qajoin_2015 = \"\"\"SELECT\n",
    "    q.id AS q_id,\n",
    "    q.title AS q_title,\n",
    "    q.body AS q_body,\n",
    "    q.tags,\n",
    "    q.owner_user_id AS q_user,\n",
    "    a.id AS a_id,\n",
    "    a.body AS a_body,\n",
    "    a.owner_user_id AS a_user,\n",
    "    a.parent_id\n",
    "FROM `bigquery-public-data.stackoverflow.posts_questions` q\n",
    "RIGHT JOIN `bigquery-public-data.stackoverflow.posts_answers` a\n",
    "ON q.id = a.parent_id\n",
    "WHERE EXTRACT(YEAR FROM q.creation_date) = 2015\n",
    "    \"\"\"\n",
    "df_qajoin = bq_stackoverflow.query_to_pandas(query_qajoin_2015)\n",
    "df_qajoin.to_csv(\"qajoin_2015.csv\")"
   ]
  },
  {
   "cell_type": "code",
   "execution_count": 3,
   "metadata": {},
   "outputs": [],
   "source": [
    "query_qajoin_2018 = \"\"\"SELECT\n",
    "    q.id AS q_id,\n",
    "    q.title AS q_title,\n",
    "    q.body AS q_body,\n",
    "    q.tags,\n",
    "    q.owner_user_id AS q_user,\n",
    "    a.id AS a_id,\n",
    "    a.body AS a_body,\n",
    "    a.owner_user_id AS a_user,\n",
    "    a.parent_id\n",
    "FROM `bigquery-public-data.stackoverflow.posts_questions` q\n",
    "RIGHT JOIN `bigquery-public-data.stackoverflow.posts_answers` a\n",
    "ON q.id = a.parent_id\n",
    "WHERE EXTRACT(YEAR FROM q.creation_date) = 2018\n",
    "    \"\"\"\n",
    "df_qajoin = bq_stackoverflow.query_to_pandas(query_qajoin_2018)\n",
    "df_qajoin.to_csv(\"qajoin_2018.csv\")"
   ]
  },
  {
   "cell_type": "code",
   "execution_count": null,
   "metadata": {},
   "outputs": [],
   "source": []
  }
 ],
 "metadata": {
  "kernelspec": {
   "display_name": "Python 3",
   "language": "python",
   "name": "python3"
  },
  "language_info": {
   "codemirror_mode": {
    "name": "ipython",
    "version": 3
   },
   "file_extension": ".py",
   "mimetype": "text/x-python",
   "name": "python",
   "nbconvert_exporter": "python",
   "pygments_lexer": "ipython3",
   "version": "3.7.4"
  }
 },
 "nbformat": 4,
 "nbformat_minor": 2
}
