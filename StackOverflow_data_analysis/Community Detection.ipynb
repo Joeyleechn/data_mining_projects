{
 "cells": [
  {
   "cell_type": "code",
   "execution_count": 1,
   "metadata": {},
   "outputs": [],
   "source": [
    "import networkx as nx\n",
    "import pandas as pd\n",
    "import numpy as np\n",
    "\n",
    "df_2018 = pd.read_csv('qajoin_2018.csv')"
   ]
  },
  {
   "cell_type": "code",
   "execution_count": 2,
   "metadata": {},
   "outputs": [],
   "source": [
    "def com_detection(row_dataframe,limit_active):\n",
    "    df = pd.DataFrame(row_dataframe, columns=['q_user','a_user'])\n",
    "    df = df[-df['q_user'].isna()]\n",
    "    dic_q = {}\n",
    "    dic_a = {}\n",
    "    qusers = [x for x in df['q_user'].to_numpy()]\n",
    "    ausers = [x for x in df['a_user'].to_numpy()]\n",
    "    for i in qusers:\n",
    "        dic_q[i] = dic_q.get(i,0) + 1\n",
    "    for i in ausers:\n",
    "        dic_a[i] = dic_a.get(i,0) + 1\n",
    "    dic_users = {}\n",
    "    for i in list(dic_q.keys()) + list(dic_q.keys()):\n",
    "        dic_users[i] = dic_q.get(i,0) + dic_a.get(i,0)\n",
    "    dic_user_filtered = {k:v for k, v in dic_users.items() if v>= limit_active}\n",
    "    list_user =  list(dic_user_filtered.keys())\n",
    "    print(\"Number of Active User:\",len(list_user))\n",
    "    df_filter = df[(df['q_user'].isin(list_user)) & (df['a_user'].isin(list_user))]\n",
    "    edges = [tuple(x) for x in df_filter.to_numpy()]\n",
    "    dic = {}\n",
    "    for i in edges:\n",
    "        dic[i] = dic.get(i,0) + 1\n",
    "    wei_edges = []\n",
    "    for i in dic.keys():\n",
    "        wei_edges.append((i[0],i[1],dic[i]))\n",
    "    g = nx.Graph()\n",
    "    g.add_weighted_edges_from(wei_edges)\n",
    "    import community as community_louvain\n",
    "    dendrogram = community_louvain.generate_dendrogram(g)\n",
    "    partition = community_louvain.best_partition(g, weight = 'weight')\n",
    "#    partition = community_louvain.partition_at_level(dendrogram, len(dendrogram) - 1)\n",
    "    print(\"Number of Communities:\",max(partition.values()))\n",
    "    return(partition)"
   ]
  },
  {
   "cell_type": "code",
   "execution_count": 3,
   "metadata": {},
   "outputs": [
    {
     "name": "stdout",
     "output_type": "stream",
     "text": [
      "Number of Active User: 26574\n",
      "Number of Communities: 166\n"
     ]
    }
   ],
   "source": [
    "partition_2018 = com_detection(df_2018,20)\n",
    "# partition_2018 = com_detection(df_2018,20)"
   ]
  },
  {
   "cell_type": "code",
   "execution_count": 9,
   "metadata": {},
   "outputs": [
    {
     "data": {
      "text/plain": [
       "2      4811\n",
       "4      3587\n",
       "7      2929\n",
       "9      2165\n",
       "5      2119\n",
       "       ... \n",
       "89        1\n",
       "105       1\n",
       "121       1\n",
       "137       1\n",
       "103       1\n",
       "Name: 0, Length: 167, dtype: int64"
      ]
     },
     "execution_count": 9,
     "metadata": {},
     "output_type": "execute_result"
    }
   ],
   "source": [
    "list_partition = list(partition_2018.values())\n",
    "df_part = pd.DataFrame(list_partition)\n",
    "df_count = df_part[0].value_counts()\n",
    "df_count"
   ]
  },
  {
   "cell_type": "code",
   "execution_count": 4,
   "metadata": {},
   "outputs": [],
   "source": [
    "def community_tech(partition,top_num,row_dataframe):\n",
    "    row_dataframe = row_dataframe.dropna(subset=['tags'])\n",
    "    list_partition = list(partition.values())\n",
    "    df_part = pd.DataFrame(list_partition)\n",
    "    df_count = df_part[0].value_counts()\n",
    "    top_commmunity = list(df_count.head(top_num).index)\n",
    "#把community detection的结果变成 Community_id:[User_id]\n",
    "    keys = pd.DataFrame(list(partition.keys()),columns=['User_id'])\n",
    "    values = pd.DataFrame(list(partition.values()),columns=['Community_id'])\n",
    "    df_community = pd.concat([keys,values],axis=1)\n",
    "    dict_community = {}\n",
    "    for i in list(df_community['Community_id'].unique()):\n",
    "        dict_community[i] = list(df_community['User_id'].loc[df_community['Community_id'] == i])\n",
    "    dict_community_tech = {}\n",
    "    for i in top_commmunity:\n",
    "        user_filter = dict_community[i]\n",
    "        df_qa_community = row_dataframe[(row_dataframe['q_user'].isin(user_filter)) & (row_dataframe['a_user'].isin(user_filter))]\n",
    "        dict_tech = {}\n",
    "        dict_tech_orders = []\n",
    "        for m in list(df_qa_community['tags']):\n",
    "            techs = m.split('|')\n",
    "            for j in techs:\n",
    "                dict_tech[j] = dict_tech.get(j,0) + 1\n",
    "        dict_tech_orders = sorted(dict_tech.items(), key=lambda x: x[1], reverse=True)\n",
    "        dict_community_tech[i] = dict_tech_orders\n",
    "        print('Number of questions in the community',i,len(df_qa_community))\n",
    "    return(dict_community,dict_community_tech)"
   ]
  },
  {
   "cell_type": "code",
   "execution_count": 5,
   "metadata": {},
   "outputs": [
    {
     "name": "stdout",
     "output_type": "stream",
     "text": [
      "Number of questions in the community 2 33210\n",
      "Number of questions in the community 4 31394\n",
      "Number of questions in the community 7 19400\n",
      "Number of questions in the community 9 13406\n",
      "Number of questions in the community 5 14013\n",
      "Number of questions in the community 1 15056\n",
      "Number of questions in the community 3 9762\n",
      "Number of questions in the community 0 11092\n",
      "Number of questions in the community 15 8150\n",
      "Number of questions in the community 18 7882\n"
     ]
    }
   ],
   "source": [
    "dict_community_result, dict_result = community_tech(partition_2018,10,df_2018)"
   ]
  },
  {
   "cell_type": "code",
   "execution_count": 6,
   "metadata": {},
   "outputs": [],
   "source": [
    "import pickle\n",
    "output1 = open('community_2018.pkl','wb')\n",
    "output2 = open('tags_2018.pkl','wb')\n",
    "pickle.dump(dict_community_result,output1)\n",
    "pickle.dump(dict_result,output2)\n",
    "output1.close()\n",
    "output2.close()"
   ]
  },
  {
   "cell_type": "code",
   "execution_count": 7,
   "metadata": {},
   "outputs": [
    {
     "name": "stdout",
     "output_type": "stream",
     "text": [
      "Community  2\n",
      "[('javascript', 12670), ('php', 9329), ('html', 6621), ('jquery', 5683), ('css', 5235), ('laravel', 5110), ('arrays', 2077), ('mysql', 1840), ('vue.js', 1436), ('laravel-5', 1310)]\n",
      "Community  4\n",
      "[('python', 24463), ('pandas', 9540), ('python-3.x', 5656), ('dataframe', 3148), ('django', 2748), ('numpy', 2278), ('list', 1648), ('dictionary', 1218), ('matplotlib', 845), ('tensorflow', 823)]\n",
      "Community  7\n",
      "[('c#', 8885), ('sql-server', 2713), ('sql', 2097), ('.net', 1206), ('asp.net-core', 1097), ('azure', 1084), ('asp.net', 1008), ('tsql', 901), ('asp.net-mvc', 857), ('xamarin.forms', 726)]\n",
      "Community  9\n",
      "[('java', 7755), ('spring', 2004), ('spring-boot', 1959), ('java-8', 867), ('java-stream', 569), ('hibernate', 510), ('maven', 484), ('spring-mvc', 404), ('spring-data-jpa', 393), ('jpa', 298)]\n",
      "Community  5\n",
      "[('android', 9425), ('java', 2293), ('flutter', 1594), ('kotlin', 1573), ('firebase', 1520), ('dart', 1040), ('android-studio', 706), ('android-recyclerview', 647), ('android-layout', 557), ('google-cloud-firestore', 526)]\n",
      "Community  1\n",
      "[('angular', 9718), ('typescript', 3582), ('javascript', 3093), ('html', 1062), ('angular6', 862), ('rxjs', 789), ('angular5', 777), ('node.js', 720), ('css', 690), ('angularjs', 679)]\n",
      "Community  3\n",
      "[('reactjs', 5460), ('javascript', 4101), ('react-native', 1555), ('node.js', 795), ('redux', 698), ('react-redux', 446), ('css', 383), ('ecmascript-6', 363), ('react-router', 309), ('html', 290)]\n",
      "Community  0\n",
      "[('c++', 5743), ('c', 1845), ('c++11', 984), ('c++17', 570), ('templates', 538), ('qt', 518), ('language-lawyer', 502), ('arrays', 355), ('pointers', 341), ('python', 332)]\n",
      "Community  15\n",
      "[('swift', 5763), ('ios', 5408), ('xcode', 872), ('uitableview', 718), ('objective-c', 567), ('swift4', 459), ('uicollectionview', 295), ('arrays', 285), ('firebase', 249), ('json', 199)]\n",
      "Community  18\n",
      "[('r', 7002), ('dplyr', 1250), ('dataframe', 753), ('ggplot2', 746), ('shiny', 467), ('data.table', 347), ('sas', 277), ('regex', 270), ('tidyverse', 231), ('list', 183)]\n"
     ]
    }
   ],
   "source": [
    "for i in dict_result.keys():\n",
    "    print('Community ',i)\n",
    "    print(dict_result[i][:10])"
   ]
  },
  {
   "cell_type": "code",
   "execution_count": null,
   "metadata": {},
   "outputs": [],
   "source": []
  }
 ],
 "metadata": {
  "kernelspec": {
   "display_name": "Python 3",
   "language": "python",
   "name": "python3"
  },
  "language_info": {
   "codemirror_mode": {
    "name": "ipython",
    "version": 3
   },
   "file_extension": ".py",
   "mimetype": "text/x-python",
   "name": "python",
   "nbconvert_exporter": "python",
   "pygments_lexer": "ipython3",
   "version": "3.7.4"
  }
 },
 "nbformat": 4,
 "nbformat_minor": 2
}
